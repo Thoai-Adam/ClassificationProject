{
 "cells": [
  {
   "cell_type": "markdown",
   "id": "f21bf9a0",
   "metadata": {},
   "source": [
    "## Explore\n",
    "\n",
    "Here you will explore your data then highlight 4 questions that you asked of the data and how those questions influenced your analysis. Remember to split your data before exploring how different variables relate to one another. Each question should be stated directly. Each question should be supported by a visualization. Each question should be answered in natural language. Two questions must be supported by a statistical test, you may choose to support more than two. \n",
    "\n",
    "###### Example: The following empty code block is here to represent the countless questions, visualizations, and statistical tests that did not make your final report. Data scientist often create a myriad of questions, visualizations and statistical tests that do not make it into the final notebook. This is okay and expected. Remember that shotgun approaches to your data such as using pair plots to look at the relationships of each feature are a great way to explore your data, but they have no place in your final report. Your final report is about showing and supporting your findings, not showing the work you did to get there!"
   ]
  }
 ],
 "metadata": {
  "kernelspec": {
   "display_name": "Python 3 (ipykernel)",
   "language": "python",
   "name": "python3"
  },
  "language_info": {
   "codemirror_mode": {
    "name": "ipython",
    "version": 3
   },
   "file_extension": ".py",
   "mimetype": "text/x-python",
   "name": "python",
   "nbconvert_exporter": "python",
   "pygments_lexer": "ipython3",
   "version": "3.10.9"
  }
 },
 "nbformat": 4,
 "nbformat_minor": 5
}
