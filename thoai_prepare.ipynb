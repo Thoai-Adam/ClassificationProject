{
 "cells": [
  {
   "cell_type": "code",
   "execution_count": null,
   "id": "791a8e9f",
   "metadata": {},
   "outputs": [],
   "source": [
    "#not fully prepped yet"
   ]
  },
  {
   "cell_type": "code",
   "execution_count": null,
   "id": "e9b6bff0",
   "metadata": {},
   "outputs": [],
   "source": []
  },
  {
   "cell_type": "code",
   "execution_count": null,
   "id": "d40a19f8",
   "metadata": {},
   "outputs": [],
   "source": [
    "import pandas as pd\n",
    "\n",
    "from sklearn.model_selection import train_test_split\n",
    "from adam_acquire import get_titanic\n"
   ]
  },
  {
   "cell_type": "code",
   "execution_count": null,
   "id": "a02747e9",
   "metadata": {},
   "outputs": [],
   "source": [
    "def drop_cols(df):\n",
    "    \n",
    "    return df.drop(columns = ['pclass', 'passenger_id', 'embarked', 'deck'])"
   ]
  },
  {
   "cell_type": "code",
   "execution_count": null,
   "id": "e56a4eaa",
   "metadata": {},
   "outputs": [],
   "source": [
    "def train_val_test(df, strat, seed = 42):\n",
    "\n",
    "    train, val_test = train_test_split(df, train_size = 0.7,\n",
    "                                       random_state = seed,\n",
    "                                       stratify = df[strat])\n",
    "    \n",
    "    val, test = train_test_split(val_test, train_size = 0.5,\n",
    "                                 random_state = seed,\n",
    "                                 stratify = val_test[strat])\n",
    "    \n",
    "    return train, val, test"
   ]
  },
  {
   "cell_type": "code",
   "execution_count": null,
   "id": "d2308fdc",
   "metadata": {},
   "outputs": [],
   "source": [
    "def impute_vals(train, val, test):\n",
    "    \n",
    "    town_mode = train.embark_town.mode()\n",
    "    \n",
    "    train.embark_town = train.embark_town.fillna(town_mode)\n",
    "    val.embark_town = val.embark_town.fillna(town_mode)\n",
    "    test.embark_town = test.embark_town.fillna(town_mode)\n",
    "    \n",
    "    med_age = train.age.median()\n",
    "    \n",
    "    train.age = train.age.fillna(med_age)\n",
    "    val.age = val.age.fillna(med_age)\n",
    "    test.age = test.age.fillna(med_age)\n",
    "    \n",
    "    return train, val, test"
   ]
  },
  {
   "cell_type": "code",
   "execution_count": null,
   "id": "2b618d90",
   "metadata": {},
   "outputs": [],
   "source": [
    "def dummies(df):\n",
    "\n",
    "    df = pd.get_dummies(df, columns = ['sex'], drop_first = True)\n",
    "    \n",
    "    df = pd.get_dummies(df)\n",
    "    \n",
    "    return df\n",
    "    "
   ]
  },
  {
   "cell_type": "code",
   "execution_count": null,
   "id": "9ac947f3",
   "metadata": {},
   "outputs": [],
   "source": [
    "def titanic_pipeline():\n",
    "    \n",
    "    df = get_titanic()\n",
    "    \n",
    "    df = drop_cols(df)\n",
    "    \n",
    "    train, val, test = train_val_test(df, 'survived')\n",
    "    \n",
    "    train, val, test = impute_vals(train, val, test)\n",
    "    \n",
    "    train = dummies(train)\n",
    "    \n",
    "    val = dummies(val)\n",
    "    \n",
    "    test = dummies(test)\n",
    "    \n",
    "    return train, val, test"
   ]
  },
  {
   "cell_type": "code",
   "execution_count": null,
   "id": "43d346dd",
   "metadata": {},
   "outputs": [],
   "source": [
    "sdfd"
   ]
  }
 ],
 "metadata": {
  "kernelspec": {
   "display_name": "Python 3 (ipykernel)",
   "language": "python",
   "name": "python3"
  },
  "language_info": {
   "codemirror_mode": {
    "name": "ipython",
    "version": 3
   },
   "file_extension": ".py",
   "mimetype": "text/x-python",
   "name": "python",
   "nbconvert_exporter": "python",
   "pygments_lexer": "ipython3",
   "version": "3.10.9"
  }
 },
 "nbformat": 4,
 "nbformat_minor": 5
}
