{
 "cells": [
  {
   "cell_type": "code",
   "execution_count": null,
   "id": "83cb29e8",
   "metadata": {},
   "outputs": [],
   "source": [
    "#not fully prepped yet"
   ]
  },
  {
   "cell_type": "code",
   "execution_count": null,
   "id": "f6d41c5b",
   "metadata": {},
   "outputs": [],
   "source": [
    "import os\n",
    "\n",
    "import pandas as pd\n",
    "\n",
    "\n",
    "def telco():\n",
    "    \n",
    "    filename = 'telco.csv'\n",
    "    \n",
    "    if os.path.isfile(filename):\n",
    "        \n",
    "        return pd.read_csv(filename)\n",
    "    \n",
    "    else:\n",
    "        \n",
    "        url = get_connection('titanic_db')\n",
    "        \n",
    "        query = '''\n",
    "                SELECT *\n",
    "                FROM passengers\n",
    "                '''\n",
    "        \n",
    "        df = pd.read_sql(query, url)\n",
    "        \n",
    "        df.to_csv(filename, index = 0)\n",
    "        \n",
    "        return df"
   ]
  }
 ],
 "metadata": {
  "kernelspec": {
   "display_name": "Python 3 (ipykernel)",
   "language": "python",
   "name": "python3"
  },
  "language_info": {
   "codemirror_mode": {
    "name": "ipython",
    "version": 3
   },
   "file_extension": ".py",
   "mimetype": "text/x-python",
   "name": "python",
   "nbconvert_exporter": "python",
   "pygments_lexer": "ipython3",
   "version": "3.10.9"
  }
 },
 "nbformat": 4,
 "nbformat_minor": 5
}
