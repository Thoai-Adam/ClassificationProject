{
 "cells": [
  {
   "cell_type": "markdown",
   "id": "c65c79a3",
   "metadata": {},
   "source": [
    "# Project: Telco Churn Rate\n",
    "\n",
    "#### Find drivers for customer churn at Telco. Why are customers churning?\n",
    "\n",
    "\n",
    "###### Hypothesis: Customer who are churning are ones with mail in check\n",
    "\n",
    "###### Null: mail-in check does not have any relationship with customer churning\n",
    "\n",
    "###### Alternative: Mail-in check customer have higher chance of churning\n",
    "\n",
    "#### Construct a ML classification model that accurately predicts customer churn"
   ]
  },
  {
   "cell_type": "markdown",
   "id": "eeafd286",
   "metadata": {},
   "source": [
    "## Import"
   ]
  },
  {
   "cell_type": "code",
   "execution_count": 1,
   "id": "c06bbbb2",
   "metadata": {},
   "outputs": [],
   "source": [
    "import os \n",
    "import pandas as pd\n",
    "import numpy as np\n"
   ]
  },
  {
   "cell_type": "markdown",
   "id": "6b199a3a",
   "metadata": {},
   "source": [
    "## Acquire\n",
    "\n",
    "Where and when you acquire your data.\n",
    "How did I get teh data.\n",
    "When did i get the data.\n",
    "Size of data.\n",
    "What does each observation represent?\n",
    "What does each column represent?"
   ]
  },
  {
   "cell_type": "code",
   "execution_count": 4,
   "id": "b17b6242",
   "metadata": {
    "scrolled": true
   },
   "outputs": [
    {
     "data": {
      "text/html": [
       "<div>\n",
       "<style scoped>\n",
       "    .dataframe tbody tr th:only-of-type {\n",
       "        vertical-align: middle;\n",
       "    }\n",
       "\n",
       "    .dataframe tbody tr th {\n",
       "        vertical-align: top;\n",
       "    }\n",
       "\n",
       "    .dataframe thead th {\n",
       "        text-align: right;\n",
       "    }\n",
       "</style>\n",
       "<table border=\"1\" class=\"dataframe\">\n",
       "  <thead>\n",
       "    <tr style=\"text-align: right;\">\n",
       "      <th></th>\n",
       "      <th>Unnamed: 0</th>\n",
       "      <th>payment_type_id</th>\n",
       "      <th>internet_service_type_id</th>\n",
       "      <th>contract_type_id</th>\n",
       "      <th>customer_id</th>\n",
       "      <th>gender</th>\n",
       "      <th>senior_citizen</th>\n",
       "      <th>partner</th>\n",
       "      <th>dependents</th>\n",
       "      <th>tenure</th>\n",
       "      <th>...</th>\n",
       "      <th>tech_support</th>\n",
       "      <th>streaming_tv</th>\n",
       "      <th>streaming_movies</th>\n",
       "      <th>paperless_billing</th>\n",
       "      <th>monthly_charges</th>\n",
       "      <th>total_charges</th>\n",
       "      <th>churn</th>\n",
       "      <th>contract_type</th>\n",
       "      <th>internet_service_type</th>\n",
       "      <th>payment_type</th>\n",
       "    </tr>\n",
       "  </thead>\n",
       "  <tbody>\n",
       "    <tr>\n",
       "      <th>0</th>\n",
       "      <td>0</td>\n",
       "      <td>2</td>\n",
       "      <td>1</td>\n",
       "      <td>2</td>\n",
       "      <td>0002-ORFBO</td>\n",
       "      <td>Female</td>\n",
       "      <td>0</td>\n",
       "      <td>Yes</td>\n",
       "      <td>Yes</td>\n",
       "      <td>9</td>\n",
       "      <td>...</td>\n",
       "      <td>Yes</td>\n",
       "      <td>Yes</td>\n",
       "      <td>No</td>\n",
       "      <td>Yes</td>\n",
       "      <td>65.6</td>\n",
       "      <td>593.3</td>\n",
       "      <td>No</td>\n",
       "      <td>One year</td>\n",
       "      <td>DSL</td>\n",
       "      <td>Mailed check</td>\n",
       "    </tr>\n",
       "    <tr>\n",
       "      <th>1</th>\n",
       "      <td>1</td>\n",
       "      <td>2</td>\n",
       "      <td>1</td>\n",
       "      <td>1</td>\n",
       "      <td>0003-MKNFE</td>\n",
       "      <td>Male</td>\n",
       "      <td>0</td>\n",
       "      <td>No</td>\n",
       "      <td>No</td>\n",
       "      <td>9</td>\n",
       "      <td>...</td>\n",
       "      <td>No</td>\n",
       "      <td>No</td>\n",
       "      <td>Yes</td>\n",
       "      <td>No</td>\n",
       "      <td>59.9</td>\n",
       "      <td>542.4</td>\n",
       "      <td>No</td>\n",
       "      <td>Month-to-month</td>\n",
       "      <td>DSL</td>\n",
       "      <td>Mailed check</td>\n",
       "    </tr>\n",
       "    <tr>\n",
       "      <th>2</th>\n",
       "      <td>2</td>\n",
       "      <td>1</td>\n",
       "      <td>2</td>\n",
       "      <td>1</td>\n",
       "      <td>0004-TLHLJ</td>\n",
       "      <td>Male</td>\n",
       "      <td>0</td>\n",
       "      <td>No</td>\n",
       "      <td>No</td>\n",
       "      <td>4</td>\n",
       "      <td>...</td>\n",
       "      <td>No</td>\n",
       "      <td>No</td>\n",
       "      <td>No</td>\n",
       "      <td>Yes</td>\n",
       "      <td>73.9</td>\n",
       "      <td>280.85</td>\n",
       "      <td>Yes</td>\n",
       "      <td>Month-to-month</td>\n",
       "      <td>Fiber optic</td>\n",
       "      <td>Electronic check</td>\n",
       "    </tr>\n",
       "    <tr>\n",
       "      <th>3</th>\n",
       "      <td>3</td>\n",
       "      <td>1</td>\n",
       "      <td>2</td>\n",
       "      <td>1</td>\n",
       "      <td>0011-IGKFF</td>\n",
       "      <td>Male</td>\n",
       "      <td>1</td>\n",
       "      <td>Yes</td>\n",
       "      <td>No</td>\n",
       "      <td>13</td>\n",
       "      <td>...</td>\n",
       "      <td>No</td>\n",
       "      <td>Yes</td>\n",
       "      <td>Yes</td>\n",
       "      <td>Yes</td>\n",
       "      <td>98.0</td>\n",
       "      <td>1237.85</td>\n",
       "      <td>Yes</td>\n",
       "      <td>Month-to-month</td>\n",
       "      <td>Fiber optic</td>\n",
       "      <td>Electronic check</td>\n",
       "    </tr>\n",
       "    <tr>\n",
       "      <th>4</th>\n",
       "      <td>4</td>\n",
       "      <td>2</td>\n",
       "      <td>2</td>\n",
       "      <td>1</td>\n",
       "      <td>0013-EXCHZ</td>\n",
       "      <td>Female</td>\n",
       "      <td>1</td>\n",
       "      <td>Yes</td>\n",
       "      <td>No</td>\n",
       "      <td>3</td>\n",
       "      <td>...</td>\n",
       "      <td>Yes</td>\n",
       "      <td>Yes</td>\n",
       "      <td>No</td>\n",
       "      <td>Yes</td>\n",
       "      <td>83.9</td>\n",
       "      <td>267.4</td>\n",
       "      <td>Yes</td>\n",
       "      <td>Month-to-month</td>\n",
       "      <td>Fiber optic</td>\n",
       "      <td>Mailed check</td>\n",
       "    </tr>\n",
       "  </tbody>\n",
       "</table>\n",
       "<p>5 rows × 25 columns</p>\n",
       "</div>"
      ],
      "text/plain": [
       "   Unnamed: 0  payment_type_id  internet_service_type_id  contract_type_id  \\\n",
       "0           0                2                         1                 2   \n",
       "1           1                2                         1                 1   \n",
       "2           2                1                         2                 1   \n",
       "3           3                1                         2                 1   \n",
       "4           4                2                         2                 1   \n",
       "\n",
       "  customer_id  gender  senior_citizen partner dependents  tenure  ...  \\\n",
       "0  0002-ORFBO  Female               0     Yes        Yes       9  ...   \n",
       "1  0003-MKNFE    Male               0      No         No       9  ...   \n",
       "2  0004-TLHLJ    Male               0      No         No       4  ...   \n",
       "3  0011-IGKFF    Male               1     Yes         No      13  ...   \n",
       "4  0013-EXCHZ  Female               1     Yes         No       3  ...   \n",
       "\n",
       "  tech_support streaming_tv streaming_movies paperless_billing  \\\n",
       "0          Yes          Yes               No               Yes   \n",
       "1           No           No              Yes                No   \n",
       "2           No           No               No               Yes   \n",
       "3           No          Yes              Yes               Yes   \n",
       "4          Yes          Yes               No               Yes   \n",
       "\n",
       "  monthly_charges total_charges churn   contract_type internet_service_type  \\\n",
       "0            65.6         593.3    No        One year                   DSL   \n",
       "1            59.9         542.4    No  Month-to-month                   DSL   \n",
       "2            73.9        280.85   Yes  Month-to-month           Fiber optic   \n",
       "3            98.0       1237.85   Yes  Month-to-month           Fiber optic   \n",
       "4            83.9         267.4   Yes  Month-to-month           Fiber optic   \n",
       "\n",
       "       payment_type  \n",
       "0      Mailed check  \n",
       "1      Mailed check  \n",
       "2  Electronic check  \n",
       "3  Electronic check  \n",
       "4      Mailed check  \n",
       "\n",
       "[5 rows x 25 columns]"
      ]
     },
     "execution_count": 4,
     "metadata": {},
     "output_type": "execute_result"
    }
   ],
   "source": [
    "#put telco file in the same repository\n",
    "#importing telco .CSV file using acquisition method \n",
    "url = 'telco.csv'\n",
    "\n",
    "df = pd.read_csv(url)\n",
    "df.head()"
   ]
  },
  {
   "cell_type": "code",
   "execution_count": 9,
   "id": "f2736946",
   "metadata": {},
   "outputs": [
    {
     "data": {
      "text/plain": [
       "(7043, 25)"
      ]
     },
     "execution_count": 9,
     "metadata": {},
     "output_type": "execute_result"
    }
   ],
   "source": [
    "#size of the data\n",
    "df.shape"
   ]
  },
  {
   "cell_type": "code",
   "execution_count": 10,
   "id": "eb5f6684",
   "metadata": {
    "scrolled": true
   },
   "outputs": [
    {
     "data": {
      "text/plain": [
       "Index(['Unnamed: 0', 'payment_type_id', 'internet_service_type_id',\n",
       "       'contract_type_id', 'customer_id', 'gender', 'senior_citizen',\n",
       "       'partner', 'dependents', 'tenure', 'phone_service', 'multiple_lines',\n",
       "       'online_security', 'online_backup', 'device_protection', 'tech_support',\n",
       "       'streaming_tv', 'streaming_movies', 'paperless_billing',\n",
       "       'monthly_charges', 'total_charges', 'churn', 'contract_type',\n",
       "       'internet_service_type', 'payment_type'],\n",
       "      dtype='object')"
      ]
     },
     "execution_count": 10,
     "metadata": {},
     "output_type": "execute_result"
    }
   ],
   "source": [
    "df.columns"
   ]
  },
  {
   "cell_type": "code",
   "execution_count": 13,
   "id": "27bedfb5",
   "metadata": {},
   "outputs": [
    {
     "data": {
      "text/plain": [
       "['Unnamed: 0',\n",
       " 'payment_type_id',\n",
       " 'internet_service_type_id',\n",
       " 'contract_type_id',\n",
       " 'customer_id',\n",
       " 'gender',\n",
       " 'senior_citizen',\n",
       " 'partner',\n",
       " 'dependents',\n",
       " 'tenure',\n",
       " 'phone_service',\n",
       " 'multiple_lines',\n",
       " 'online_security',\n",
       " 'online_backup',\n",
       " 'device_protection',\n",
       " 'tech_support',\n",
       " 'streaming_tv',\n",
       " 'streaming_movies',\n",
       " 'paperless_billing',\n",
       " 'monthly_charges',\n",
       " 'total_charges',\n",
       " 'churn',\n",
       " 'contract_type',\n",
       " 'internet_service_type',\n",
       " 'payment_type']"
      ]
     },
     "execution_count": 13,
     "metadata": {},
     "output_type": "execute_result"
    }
   ],
   "source": [
    "df.columns.to_list()"
   ]
  },
  {
   "cell_type": "code",
   "execution_count": null,
   "id": "dfcd67af",
   "metadata": {},
   "outputs": [],
   "source": []
  },
  {
   "cell_type": "code",
   "execution_count": 55,
   "id": "3bde0475",
   "metadata": {},
   "outputs": [
    {
     "name": "stdout",
     "output_type": "stream",
     "text": [
      "gender has 2 unique values: ['Female' 'Male']\n",
      "partner has 2 unique values: ['Yes' 'No']\n",
      "dependents has 2 unique values: ['Yes' 'No']\n",
      "phone_service has 2 unique values: ['Yes' 'No']\n",
      "multiple_lines has 3 unique values: ['No' 'Yes' 'No phone service']\n",
      "online_security has 3 unique values: ['No' 'Yes' 'No internet service']\n",
      "online_backup has 3 unique values: ['Yes' 'No' 'No internet service']\n",
      "device_protection has 3 unique values: ['No' 'Yes' 'No internet service']\n",
      "tech_support has 3 unique values: ['Yes' 'No' 'No internet service']\n",
      "streaming_tv has 3 unique values: ['Yes' 'No' 'No internet service']\n",
      "streaming_movies has 3 unique values: ['No' 'Yes' 'No internet service']\n",
      "paperless_billing has 2 unique values: ['Yes' 'No']\n",
      "total_charges has 6531 unique values: ['593.3' '542.4' '280.85' ... '742.9' '4627.65' '3707.6']\n",
      "churn has 2 unique values: ['No' 'Yes']\n",
      "contract_type has 3 unique values: ['One year' 'Month-to-month' 'Two year']\n",
      "internet_service_type has 3 unique values: ['DSL' 'Fiber optic' 'None']\n",
      "payment_type has 4 unique values: ['Mailed check' 'Electronic check' 'Credit card (automatic)'\n",
      " 'Bank transfer (automatic)']\n"
     ]
    }
   ],
   "source": [
    "#printing unique values for each of categorical variables using the for loop\n",
    "for col in df.columns:\n",
    "    if df[col].dtypes == 'object':\n",
    "        print(f'{col} has {df[col].nunique()} unique values: {df[col].unique()}')\n"
   ]
  },
  {
   "cell_type": "code",
   "execution_count": 56,
   "id": "cf2f9df0",
   "metadata": {},
   "outputs": [
    {
     "data": {
      "text/plain": [
       "gender                   0\n",
       "senior_citizen           0\n",
       "partner                  0\n",
       "dependents               0\n",
       "tenure                   0\n",
       "phone_service            0\n",
       "multiple_lines           0\n",
       "online_security          0\n",
       "online_backup            0\n",
       "device_protection        0\n",
       "tech_support             0\n",
       "streaming_tv             0\n",
       "streaming_movies         0\n",
       "paperless_billing        0\n",
       "monthly_charges          0\n",
       "total_charges            0\n",
       "churn                    0\n",
       "contract_type            0\n",
       "internet_service_type    0\n",
       "payment_type             0\n",
       "dtype: int64"
      ]
     },
     "execution_count": 56,
     "metadata": {},
     "output_type": "execute_result"
    }
   ],
   "source": [
    "df.isnull().sum()  #there are zero null so i do not need to consider dropping anything"
   ]
  },
  {
   "cell_type": "code",
   "execution_count": 15,
   "id": "9fc6f4c2",
   "metadata": {},
   "outputs": [],
   "source": [
    "#i am commiting to drop useless and redundant datas for the sake of humanity\n",
    "df = df.drop(columns=['Unnamed: 0', 'payment_type_id', 'internet_service_type_id', 'contract_type_id', 'customer_id',])"
   ]
  },
  {
   "cell_type": "code",
   "execution_count": 60,
   "id": "73797364",
   "metadata": {},
   "outputs": [],
   "source": [
    "#turning the above into a function this will be used in exploration\n",
    "\n",
    "def drop_columns(df):\n",
    "    columns_to_drop = ['Unnamed: 0', 'payment_type_id', 'internet_service_type_id', 'contract_type_id', 'customer_id']\n",
    "    df = df.drop(columns=[columns_to_drop])\n",
    "    return df\n",
    "\n"
   ]
  },
  {
   "cell_type": "code",
   "execution_count": 61,
   "id": "a6b9e289",
   "metadata": {},
   "outputs": [
    {
     "data": {
      "text/plain": [
       "gender                    object\n",
       "senior_citizen             int64\n",
       "partner                   object\n",
       "dependents                object\n",
       "tenure                     int64\n",
       "phone_service             object\n",
       "multiple_lines            object\n",
       "online_security           object\n",
       "online_backup             object\n",
       "device_protection         object\n",
       "tech_support              object\n",
       "streaming_tv              object\n",
       "streaming_movies          object\n",
       "paperless_billing         object\n",
       "monthly_charges          float64\n",
       "total_charges             object\n",
       "churn                     object\n",
       "contract_type             object\n",
       "internet_service_type     object\n",
       "payment_type              object\n",
       "dtype: object"
      ]
     },
     "execution_count": 61,
     "metadata": {},
     "output_type": "execute_result"
    }
   ],
   "source": [
    "df.dtypes # i have ensured the column dropped and list their data types"
   ]
  },
  {
   "cell_type": "code",
   "execution_count": 65,
   "id": "b6d01c60",
   "metadata": {},
   "outputs": [
    {
     "name": "stdout",
     "output_type": "stream",
     "text": [
      "['593.3' '542.4' '280.85' ... '742.9' '4627.65' '3707.6']\n"
     ]
    }
   ],
   "source": [
    "unique_values = df['total_charges'].unique()\n",
    "print(unique_values)\n",
    "#i dont see anything out of the norm but.."
   ]
  },
  {
   "cell_type": "code",
   "execution_count": 63,
   "id": "1ca2aeaf",
   "metadata": {},
   "outputs": [
    {
     "data": {
      "text/plain": [
       "0        593.30\n",
       "1        542.40\n",
       "2        280.85\n",
       "3       1237.85\n",
       "4        267.40\n",
       "         ...   \n",
       "7038     742.90\n",
       "7039    1873.70\n",
       "7040      92.75\n",
       "7041    4627.65\n",
       "7042    3707.60\n",
       "Name: total_charges, Length: 7043, dtype: float64"
      ]
     },
     "execution_count": 63,
     "metadata": {},
     "output_type": "execute_result"
    }
   ],
   "source": [
    "#note that the total_charges is read as an object\n",
    "#this mean that some values could be Null, non-numeric, or Dollar sign\n",
    "# we need to get rid of these\n",
    "\n",
    "df['total_charges'].str.replace(',', '')\n",
    "pd.to_numeric(df['total_charges'], errors='coerce')"
   ]
  },
  {
   "cell_type": "code",
   "execution_count": 66,
   "id": "ec8e2a22",
   "metadata": {},
   "outputs": [
    {
     "data": {
      "text/plain": [
       "['gender',\n",
       " 'partner',\n",
       " 'dependents',\n",
       " 'phone_service',\n",
       " 'multiple_lines',\n",
       " 'online_security',\n",
       " 'online_backup',\n",
       " 'device_protection',\n",
       " 'tech_support',\n",
       " 'streaming_tv',\n",
       " 'streaming_movies',\n",
       " 'paperless_billing',\n",
       " 'total_charges',\n",
       " 'churn',\n",
       " 'contract_type',\n",
       " 'internet_service_type',\n",
       " 'payment_type']"
      ]
     },
     "execution_count": 66,
     "metadata": {},
     "output_type": "execute_result"
    }
   ],
   "source": [
    "# i need to identify columns with object incase i have to change it into integer for pandas during machine learning phase\n",
    "df.select_dtypes(include='object').columns.to_list()"
   ]
  },
  {
   "cell_type": "code",
   "execution_count": 52,
   "id": "50609bb5",
   "metadata": {},
   "outputs": [
    {
     "name": "stdout",
     "output_type": "stream",
     "text": [
      "['senior_citizen', 'tenure', 'monthly_charges']\n"
     ]
    }
   ],
   "source": [
    "#i need to compute for the range of each numeric variables to understand Data Distribution and visualization\n",
    "#i have identied three columns with numeric values\n",
    "numeric_columns = []\n",
    "\n",
    "for col in df.columns:\n",
    "    if pd.api.types.is_numeric_dtype(df[col]):\n",
    "        numeric_columns.append(col)\n",
    "\n",
    "print(numeric_columns)"
   ]
  },
  {
   "cell_type": "code",
   "execution_count": 54,
   "id": "6140241a",
   "metadata": {
    "scrolled": true
   },
   "outputs": [
    {
     "data": {
      "text/html": [
       "<div>\n",
       "<style scoped>\n",
       "    .dataframe tbody tr th:only-of-type {\n",
       "        vertical-align: middle;\n",
       "    }\n",
       "\n",
       "    .dataframe tbody tr th {\n",
       "        vertical-align: top;\n",
       "    }\n",
       "\n",
       "    .dataframe thead th {\n",
       "        text-align: right;\n",
       "    }\n",
       "</style>\n",
       "<table border=\"1\" class=\"dataframe\">\n",
       "  <thead>\n",
       "    <tr style=\"text-align: right;\">\n",
       "      <th></th>\n",
       "      <th>count</th>\n",
       "      <th>mean</th>\n",
       "      <th>std</th>\n",
       "      <th>min</th>\n",
       "      <th>25%</th>\n",
       "      <th>50%</th>\n",
       "      <th>75%</th>\n",
       "      <th>max</th>\n",
       "    </tr>\n",
       "  </thead>\n",
       "  <tbody>\n",
       "    <tr>\n",
       "      <th>senior_citizen</th>\n",
       "      <td>7043.0</td>\n",
       "      <td>0.162147</td>\n",
       "      <td>0.368612</td>\n",
       "      <td>0.00</td>\n",
       "      <td>0.0</td>\n",
       "      <td>0.00</td>\n",
       "      <td>0.00</td>\n",
       "      <td>1.00</td>\n",
       "    </tr>\n",
       "    <tr>\n",
       "      <th>tenure</th>\n",
       "      <td>7043.0</td>\n",
       "      <td>32.371149</td>\n",
       "      <td>24.559481</td>\n",
       "      <td>0.00</td>\n",
       "      <td>9.0</td>\n",
       "      <td>29.00</td>\n",
       "      <td>55.00</td>\n",
       "      <td>72.00</td>\n",
       "    </tr>\n",
       "    <tr>\n",
       "      <th>monthly_charges</th>\n",
       "      <td>7043.0</td>\n",
       "      <td>64.761692</td>\n",
       "      <td>30.090047</td>\n",
       "      <td>18.25</td>\n",
       "      <td>35.5</td>\n",
       "      <td>70.35</td>\n",
       "      <td>89.85</td>\n",
       "      <td>118.75</td>\n",
       "    </tr>\n",
       "  </tbody>\n",
       "</table>\n",
       "</div>"
      ],
      "text/plain": [
       "                  count       mean        std    min   25%    50%    75%  \\\n",
       "senior_citizen   7043.0   0.162147   0.368612   0.00   0.0   0.00   0.00   \n",
       "tenure           7043.0  32.371149  24.559481   0.00   9.0  29.00  55.00   \n",
       "monthly_charges  7043.0  64.761692  30.090047  18.25  35.5  70.35  89.85   \n",
       "\n",
       "                    max  \n",
       "senior_citizen     1.00  \n",
       "tenure            72.00  \n",
       "monthly_charges  118.75  "
      ]
     },
     "execution_count": 54,
     "metadata": {},
     "output_type": "execute_result"
    }
   ],
   "source": [
    "#computing the range for each columns\n",
    "df[['senior_citizen', 'tenure', 'monthly_charges']].describe().T\n",
    "#below are the statistic description for each of the variables"
   ]
  },
  {
   "cell_type": "code",
   "execution_count": null,
   "id": "5f52e112",
   "metadata": {},
   "outputs": [],
   "source": []
  },
  {
   "cell_type": "markdown",
   "id": "ca680dcb",
   "metadata": {},
   "source": [
    "## Prepare\n",
    "\n",
    "List steps taken to clean your data here. In particular call out how you handle null values and outliers in detail. You must do this even if you do not do anything or do not encounter any. Anytime there is potential to make changes to the data you must be upfront about the changes you make or do not make."
   ]
  },
  {
   "cell_type": "code",
   "execution_count": null,
   "id": "c629d73e",
   "metadata": {},
   "outputs": [],
   "source": []
  },
  {
   "cell_type": "code",
   "execution_count": null,
   "id": "0c7e0eea",
   "metadata": {},
   "outputs": [],
   "source": []
  },
  {
   "cell_type": "code",
   "execution_count": null,
   "id": "5e51d07c",
   "metadata": {},
   "outputs": [],
   "source": []
  },
  {
   "cell_type": "code",
   "execution_count": null,
   "id": "c5a1b51b",
   "metadata": {},
   "outputs": [],
   "source": []
  },
  {
   "cell_type": "code",
   "execution_count": null,
   "id": "c6097039",
   "metadata": {},
   "outputs": [],
   "source": []
  }
 ],
 "metadata": {
  "kernelspec": {
   "display_name": "Python 3 (ipykernel)",
   "language": "python",
   "name": "python3"
  },
  "language_info": {
   "codemirror_mode": {
    "name": "ipython",
    "version": 3
   },
   "file_extension": ".py",
   "mimetype": "text/x-python",
   "name": "python",
   "nbconvert_exporter": "python",
   "pygments_lexer": "ipython3",
   "version": "3.10.9"
  }
 },
 "nbformat": 4,
 "nbformat_minor": 5
}
