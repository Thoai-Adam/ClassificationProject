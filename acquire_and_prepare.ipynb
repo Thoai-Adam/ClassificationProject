{
 "cells": [
  {
   "cell_type": "markdown",
   "id": "c65c79a3",
   "metadata": {},
   "source": [
    "# Project: Telco Churn Rate\n",
    "\n",
    "#### Find drivers for customer churn at Telco. Why are customers churning?\n",
    "\n",
    "\n",
    "###### Hypothesis: Customer who are churning are ones with mail in check\n",
    "\n",
    "###### Null: mail-in check does not have any relationship with customer churning\n",
    "\n",
    "###### Alternative: Mail-in check customer have higher chance of churning\n",
    "\n",
    "#### Construct a ML classification model that accurately predicts customer churn"
   ]
  },
  {
   "cell_type": "markdown",
   "id": "eeafd286",
   "metadata": {},
   "source": [
    "## Import"
   ]
  },
  {
   "cell_type": "code",
   "execution_count": 54,
   "id": "c06bbbb2",
   "metadata": {},
   "outputs": [],
   "source": [
    "import os \n",
    "import warnings\n",
    "warnings.filterwarnings(\"ignore\") #this will disregard any unnecessary warning Python may throw at me\n",
    "\n",
    "import pandas as pd\n",
    "import numpy as np\n",
    "import matplotlib.pyplot as plt   \n",
    "#this was needed at the plot stage for visualize distribution\n",
    "from sklearn.model_selection import train_test_split\n",
    "#this was done later in the prep stage to split data\n",
    "from sklearn.impute import SimpleImputer\n",
    "#this was done at the end of the prep stage to import imputer"
   ]
  },
  {
   "cell_type": "markdown",
   "id": "6b199a3a",
   "metadata": {},
   "source": [
    "## Acquire\n",
    "\n",
    "Where and when you acquire your data.\n",
    "How did I get teh data.\n",
    "When did i get the data.\n",
    "Size of data.\n",
    "What does each observation represent?\n",
    "What does each column represent?"
   ]
  },
  {
   "cell_type": "markdown",
   "id": "a7ecd183",
   "metadata": {},
   "source": [
    "#### I have acquire the JOINED telco data by exporting from MySQL Workbench. \n",
    "\n",
    "\n",
    "SELECT *\n",
    "FROM customer_details\n",
    "JOIN customer_contracts on customer_contracts.customer_id = customer_details.customer_id\n",
    "JOIN customer_churn on customer_churn.customer_id = customer_contracts.customer_id\n",
    "JOIN customer_payments on customer_payments.customer_id= customer_churn.customer_id\n",
    "JOIN customer_signups on customer_signups.customer_id =customer_payments.customer_id\n",
    "JOIN customer_subscriptions on customer_subscriptions.customer_id = customer_details.customer_id\n",
    "JOIN internet_service_types on internet_service_types.internet_service_type_id = customer_subscriptions.internet_service_type_id\n",
    "JOIN payment_types on payment_types.payment_type_id = customer_payments.payment_type_id\n",
    "JOIN contract_types on contract_types.contract_type_id = customer_contracts.contract_type_id;\n",
    "\n",
    "#### I uploaded telco data into Jupyter Notebook\n",
    "#### and read it with the command below"
   ]
  },
  {
   "cell_type": "code",
   "execution_count": 18,
   "id": "b17b6242",
   "metadata": {
    "scrolled": true
   },
   "outputs": [
    {
     "data": {
      "text/html": [
       "<div>\n",
       "<style scoped>\n",
       "    .dataframe tbody tr th:only-of-type {\n",
       "        vertical-align: middle;\n",
       "    }\n",
       "\n",
       "    .dataframe tbody tr th {\n",
       "        vertical-align: top;\n",
       "    }\n",
       "\n",
       "    .dataframe thead th {\n",
       "        text-align: right;\n",
       "    }\n",
       "</style>\n",
       "<table border=\"1\" class=\"dataframe\">\n",
       "  <thead>\n",
       "    <tr style=\"text-align: right;\">\n",
       "      <th></th>\n",
       "      <th>Unnamed: 0</th>\n",
       "      <th>payment_type_id</th>\n",
       "      <th>internet_service_type_id</th>\n",
       "      <th>contract_type_id</th>\n",
       "      <th>customer_id</th>\n",
       "      <th>gender</th>\n",
       "      <th>senior_citizen</th>\n",
       "      <th>partner</th>\n",
       "      <th>dependents</th>\n",
       "      <th>tenure</th>\n",
       "      <th>...</th>\n",
       "      <th>tech_support</th>\n",
       "      <th>streaming_tv</th>\n",
       "      <th>streaming_movies</th>\n",
       "      <th>paperless_billing</th>\n",
       "      <th>monthly_charges</th>\n",
       "      <th>total_charges</th>\n",
       "      <th>churn</th>\n",
       "      <th>contract_type</th>\n",
       "      <th>internet_service_type</th>\n",
       "      <th>payment_type</th>\n",
       "    </tr>\n",
       "  </thead>\n",
       "  <tbody>\n",
       "    <tr>\n",
       "      <th>0</th>\n",
       "      <td>0</td>\n",
       "      <td>2</td>\n",
       "      <td>1</td>\n",
       "      <td>2</td>\n",
       "      <td>0002-ORFBO</td>\n",
       "      <td>Female</td>\n",
       "      <td>0</td>\n",
       "      <td>Yes</td>\n",
       "      <td>Yes</td>\n",
       "      <td>9</td>\n",
       "      <td>...</td>\n",
       "      <td>Yes</td>\n",
       "      <td>Yes</td>\n",
       "      <td>No</td>\n",
       "      <td>Yes</td>\n",
       "      <td>65.6</td>\n",
       "      <td>593.3</td>\n",
       "      <td>No</td>\n",
       "      <td>One year</td>\n",
       "      <td>DSL</td>\n",
       "      <td>Mailed check</td>\n",
       "    </tr>\n",
       "    <tr>\n",
       "      <th>1</th>\n",
       "      <td>1</td>\n",
       "      <td>2</td>\n",
       "      <td>1</td>\n",
       "      <td>1</td>\n",
       "      <td>0003-MKNFE</td>\n",
       "      <td>Male</td>\n",
       "      <td>0</td>\n",
       "      <td>No</td>\n",
       "      <td>No</td>\n",
       "      <td>9</td>\n",
       "      <td>...</td>\n",
       "      <td>No</td>\n",
       "      <td>No</td>\n",
       "      <td>Yes</td>\n",
       "      <td>No</td>\n",
       "      <td>59.9</td>\n",
       "      <td>542.4</td>\n",
       "      <td>No</td>\n",
       "      <td>Month-to-month</td>\n",
       "      <td>DSL</td>\n",
       "      <td>Mailed check</td>\n",
       "    </tr>\n",
       "    <tr>\n",
       "      <th>2</th>\n",
       "      <td>2</td>\n",
       "      <td>1</td>\n",
       "      <td>2</td>\n",
       "      <td>1</td>\n",
       "      <td>0004-TLHLJ</td>\n",
       "      <td>Male</td>\n",
       "      <td>0</td>\n",
       "      <td>No</td>\n",
       "      <td>No</td>\n",
       "      <td>4</td>\n",
       "      <td>...</td>\n",
       "      <td>No</td>\n",
       "      <td>No</td>\n",
       "      <td>No</td>\n",
       "      <td>Yes</td>\n",
       "      <td>73.9</td>\n",
       "      <td>280.85</td>\n",
       "      <td>Yes</td>\n",
       "      <td>Month-to-month</td>\n",
       "      <td>Fiber optic</td>\n",
       "      <td>Electronic check</td>\n",
       "    </tr>\n",
       "    <tr>\n",
       "      <th>3</th>\n",
       "      <td>3</td>\n",
       "      <td>1</td>\n",
       "      <td>2</td>\n",
       "      <td>1</td>\n",
       "      <td>0011-IGKFF</td>\n",
       "      <td>Male</td>\n",
       "      <td>1</td>\n",
       "      <td>Yes</td>\n",
       "      <td>No</td>\n",
       "      <td>13</td>\n",
       "      <td>...</td>\n",
       "      <td>No</td>\n",
       "      <td>Yes</td>\n",
       "      <td>Yes</td>\n",
       "      <td>Yes</td>\n",
       "      <td>98.0</td>\n",
       "      <td>1237.85</td>\n",
       "      <td>Yes</td>\n",
       "      <td>Month-to-month</td>\n",
       "      <td>Fiber optic</td>\n",
       "      <td>Electronic check</td>\n",
       "    </tr>\n",
       "    <tr>\n",
       "      <th>4</th>\n",
       "      <td>4</td>\n",
       "      <td>2</td>\n",
       "      <td>2</td>\n",
       "      <td>1</td>\n",
       "      <td>0013-EXCHZ</td>\n",
       "      <td>Female</td>\n",
       "      <td>1</td>\n",
       "      <td>Yes</td>\n",
       "      <td>No</td>\n",
       "      <td>3</td>\n",
       "      <td>...</td>\n",
       "      <td>Yes</td>\n",
       "      <td>Yes</td>\n",
       "      <td>No</td>\n",
       "      <td>Yes</td>\n",
       "      <td>83.9</td>\n",
       "      <td>267.4</td>\n",
       "      <td>Yes</td>\n",
       "      <td>Month-to-month</td>\n",
       "      <td>Fiber optic</td>\n",
       "      <td>Mailed check</td>\n",
       "    </tr>\n",
       "  </tbody>\n",
       "</table>\n",
       "<p>5 rows × 25 columns</p>\n",
       "</div>"
      ],
      "text/plain": [
       "   Unnamed: 0  payment_type_id  internet_service_type_id  contract_type_id  \\\n",
       "0           0                2                         1                 2   \n",
       "1           1                2                         1                 1   \n",
       "2           2                1                         2                 1   \n",
       "3           3                1                         2                 1   \n",
       "4           4                2                         2                 1   \n",
       "\n",
       "  customer_id  gender  senior_citizen partner dependents  tenure  ...  \\\n",
       "0  0002-ORFBO  Female               0     Yes        Yes       9  ...   \n",
       "1  0003-MKNFE    Male               0      No         No       9  ...   \n",
       "2  0004-TLHLJ    Male               0      No         No       4  ...   \n",
       "3  0011-IGKFF    Male               1     Yes         No      13  ...   \n",
       "4  0013-EXCHZ  Female               1     Yes         No       3  ...   \n",
       "\n",
       "  tech_support streaming_tv streaming_movies paperless_billing  \\\n",
       "0          Yes          Yes               No               Yes   \n",
       "1           No           No              Yes                No   \n",
       "2           No           No               No               Yes   \n",
       "3           No          Yes              Yes               Yes   \n",
       "4          Yes          Yes               No               Yes   \n",
       "\n",
       "  monthly_charges total_charges churn   contract_type internet_service_type  \\\n",
       "0            65.6         593.3    No        One year                   DSL   \n",
       "1            59.9         542.4    No  Month-to-month                   DSL   \n",
       "2            73.9        280.85   Yes  Month-to-month           Fiber optic   \n",
       "3            98.0       1237.85   Yes  Month-to-month           Fiber optic   \n",
       "4            83.9         267.4   Yes  Month-to-month           Fiber optic   \n",
       "\n",
       "       payment_type  \n",
       "0      Mailed check  \n",
       "1      Mailed check  \n",
       "2  Electronic check  \n",
       "3  Electronic check  \n",
       "4      Mailed check  \n",
       "\n",
       "[5 rows x 25 columns]"
      ]
     },
     "execution_count": 18,
     "metadata": {},
     "output_type": "execute_result"
    }
   ],
   "source": [
    "#put telco file in the same repository\n",
    "#importing telco .CSV file using acquisition method \n",
    "url = 'telco.csv'\n",
    "\n",
    "df = pd.read_csv(url)\n",
    "df.head()"
   ]
  },
  {
   "cell_type": "code",
   "execution_count": 19,
   "id": "f2736946",
   "metadata": {},
   "outputs": [
    {
     "data": {
      "text/plain": [
       "(7043, 25)"
      ]
     },
     "execution_count": 19,
     "metadata": {},
     "output_type": "execute_result"
    }
   ],
   "source": [
    "#size of the data\n",
    "df.shape"
   ]
  },
  {
   "cell_type": "code",
   "execution_count": 20,
   "id": "eb5f6684",
   "metadata": {
    "scrolled": true
   },
   "outputs": [
    {
     "data": {
      "text/plain": [
       "Index(['Unnamed: 0', 'payment_type_id', 'internet_service_type_id',\n",
       "       'contract_type_id', 'customer_id', 'gender', 'senior_citizen',\n",
       "       'partner', 'dependents', 'tenure', 'phone_service', 'multiple_lines',\n",
       "       'online_security', 'online_backup', 'device_protection', 'tech_support',\n",
       "       'streaming_tv', 'streaming_movies', 'paperless_billing',\n",
       "       'monthly_charges', 'total_charges', 'churn', 'contract_type',\n",
       "       'internet_service_type', 'payment_type'],\n",
       "      dtype='object')"
      ]
     },
     "execution_count": 20,
     "metadata": {},
     "output_type": "execute_result"
    }
   ],
   "source": [
    "df.columns"
   ]
  },
  {
   "cell_type": "code",
   "execution_count": 21,
   "id": "27bedfb5",
   "metadata": {},
   "outputs": [
    {
     "data": {
      "text/plain": [
       "['Unnamed: 0',\n",
       " 'payment_type_id',\n",
       " 'internet_service_type_id',\n",
       " 'contract_type_id',\n",
       " 'customer_id',\n",
       " 'gender',\n",
       " 'senior_citizen',\n",
       " 'partner',\n",
       " 'dependents',\n",
       " 'tenure',\n",
       " 'phone_service',\n",
       " 'multiple_lines',\n",
       " 'online_security',\n",
       " 'online_backup',\n",
       " 'device_protection',\n",
       " 'tech_support',\n",
       " 'streaming_tv',\n",
       " 'streaming_movies',\n",
       " 'paperless_billing',\n",
       " 'monthly_charges',\n",
       " 'total_charges',\n",
       " 'churn',\n",
       " 'contract_type',\n",
       " 'internet_service_type',\n",
       " 'payment_type']"
      ]
     },
     "execution_count": 21,
     "metadata": {},
     "output_type": "execute_result"
    }
   ],
   "source": [
    "df.columns.to_list()"
   ]
  },
  {
   "cell_type": "code",
   "execution_count": null,
   "id": "dfcd67af",
   "metadata": {},
   "outputs": [],
   "source": []
  },
  {
   "cell_type": "code",
   "execution_count": null,
   "id": "0b40a746",
   "metadata": {},
   "outputs": [],
   "source": []
  },
  {
   "cell_type": "code",
   "execution_count": null,
   "id": "c6aeac42",
   "metadata": {},
   "outputs": [],
   "source": []
  },
  {
   "cell_type": "code",
   "execution_count": null,
   "id": "28894079",
   "metadata": {},
   "outputs": [],
   "source": []
  },
  {
   "cell_type": "code",
   "execution_count": null,
   "id": "17ec1eaa",
   "metadata": {},
   "outputs": [],
   "source": []
  },
  {
   "cell_type": "code",
   "execution_count": null,
   "id": "66ebab5d",
   "metadata": {},
   "outputs": [],
   "source": []
  },
  {
   "cell_type": "code",
   "execution_count": null,
   "id": "a2fb4776",
   "metadata": {},
   "outputs": [],
   "source": []
  },
  {
   "cell_type": "markdown",
   "id": "07520f96",
   "metadata": {},
   "source": [
    "## Prepare\n",
    "\n",
    "List steps taken to clean your data here. In particular call out how you handle null values and outliers in detail. You must do this even if you do not do anything or do not encounter any. Anytime there is potential to make changes to the data you must be upfront about the changes you make or do not make."
   ]
  },
  {
   "cell_type": "code",
   "execution_count": 22,
   "id": "3bde0475",
   "metadata": {
    "scrolled": true
   },
   "outputs": [
    {
     "name": "stdout",
     "output_type": "stream",
     "text": [
      "customer_id has 7043 unique values: ['0002-ORFBO' '0003-MKNFE' '0004-TLHLJ' ... '9992-UJOEL' '9993-LHIEB'\n",
      " '9995-HOTOH']\n",
      "gender has 2 unique values: ['Female' 'Male']\n",
      "partner has 2 unique values: ['Yes' 'No']\n",
      "dependents has 2 unique values: ['Yes' 'No']\n",
      "phone_service has 2 unique values: ['Yes' 'No']\n",
      "multiple_lines has 3 unique values: ['No' 'Yes' 'No phone service']\n",
      "online_security has 3 unique values: ['No' 'Yes' 'No internet service']\n",
      "online_backup has 3 unique values: ['Yes' 'No' 'No internet service']\n",
      "device_protection has 3 unique values: ['No' 'Yes' 'No internet service']\n",
      "tech_support has 3 unique values: ['Yes' 'No' 'No internet service']\n",
      "streaming_tv has 3 unique values: ['Yes' 'No' 'No internet service']\n",
      "streaming_movies has 3 unique values: ['No' 'Yes' 'No internet service']\n",
      "paperless_billing has 2 unique values: ['Yes' 'No']\n",
      "total_charges has 6531 unique values: ['593.3' '542.4' '280.85' ... '742.9' '4627.65' '3707.6']\n",
      "churn has 2 unique values: ['No' 'Yes']\n",
      "contract_type has 3 unique values: ['One year' 'Month-to-month' 'Two year']\n",
      "internet_service_type has 3 unique values: ['DSL' 'Fiber optic' 'None']\n",
      "payment_type has 4 unique values: ['Mailed check' 'Electronic check' 'Credit card (automatic)'\n",
      " 'Bank transfer (automatic)']\n"
     ]
    }
   ],
   "source": [
    "#printing unique values for each of categorical variables using the for loop\n",
    "for col in df.columns:\n",
    "    if df[col].dtypes == 'object':\n",
    "        print(f'{col} has {df[col].nunique()} unique values: {df[col].unique()}')\n"
   ]
  },
  {
   "cell_type": "code",
   "execution_count": 23,
   "id": "cf2f9df0",
   "metadata": {},
   "outputs": [
    {
     "data": {
      "text/plain": [
       "Unnamed: 0                  0\n",
       "payment_type_id             0\n",
       "internet_service_type_id    0\n",
       "contract_type_id            0\n",
       "customer_id                 0\n",
       "gender                      0\n",
       "senior_citizen              0\n",
       "partner                     0\n",
       "dependents                  0\n",
       "tenure                      0\n",
       "phone_service               0\n",
       "multiple_lines              0\n",
       "online_security             0\n",
       "online_backup               0\n",
       "device_protection           0\n",
       "tech_support                0\n",
       "streaming_tv                0\n",
       "streaming_movies            0\n",
       "paperless_billing           0\n",
       "monthly_charges             0\n",
       "total_charges               0\n",
       "churn                       0\n",
       "contract_type               0\n",
       "internet_service_type       0\n",
       "payment_type                0\n",
       "dtype: int64"
      ]
     },
     "execution_count": 23,
     "metadata": {},
     "output_type": "execute_result"
    }
   ],
   "source": [
    "df.isnull().sum()  #there are zero null so i do not need to consider dropping anything"
   ]
  },
  {
   "cell_type": "code",
   "execution_count": 24,
   "id": "9fc6f4c2",
   "metadata": {},
   "outputs": [],
   "source": [
    "#i am commiting to drop useless and redundant datas for the sake of humanity\n",
    "df = df.drop(columns=['Unnamed: 0', 'payment_type_id', 'internet_service_type_id', 'contract_type_id', 'customer_id',])"
   ]
  },
  {
   "cell_type": "code",
   "execution_count": 25,
   "id": "73797364",
   "metadata": {},
   "outputs": [],
   "source": [
    "#turning the above into a function this will be used in exploration\n",
    "\n",
    "def drop_columns(df):\n",
    "    columns_to_drop = ['Unnamed: 0', 'payment_type_id', 'internet_service_type_id', 'contract_type_id', 'customer_id']\n",
    "    df = df.drop(columns=[columns_to_drop])\n",
    "    return df\n",
    "#i have done this early in the pipeline to get rid of those pesky redundacy\n"
   ]
  },
  {
   "cell_type": "code",
   "execution_count": 26,
   "id": "a6b9e289",
   "metadata": {},
   "outputs": [
    {
     "data": {
      "text/plain": [
       "gender                    object\n",
       "senior_citizen             int64\n",
       "partner                   object\n",
       "dependents                object\n",
       "tenure                     int64\n",
       "phone_service             object\n",
       "multiple_lines            object\n",
       "online_security           object\n",
       "online_backup             object\n",
       "device_protection         object\n",
       "tech_support              object\n",
       "streaming_tv              object\n",
       "streaming_movies          object\n",
       "paperless_billing         object\n",
       "monthly_charges          float64\n",
       "total_charges             object\n",
       "churn                     object\n",
       "contract_type             object\n",
       "internet_service_type     object\n",
       "payment_type              object\n",
       "dtype: object"
      ]
     },
     "execution_count": 26,
     "metadata": {},
     "output_type": "execute_result"
    }
   ],
   "source": [
    "df.dtypes # i have ensured the column dropped and list their data types"
   ]
  },
  {
   "cell_type": "code",
   "execution_count": 27,
   "id": "b6d01c60",
   "metadata": {},
   "outputs": [
    {
     "name": "stdout",
     "output_type": "stream",
     "text": [
      "['593.3' '542.4' '280.85' ... '742.9' '4627.65' '3707.6']\n"
     ]
    }
   ],
   "source": [
    "unique_values = df['total_charges'].unique()\n",
    "print(unique_values)\n",
    "#i dont see anything out of the norm but.."
   ]
  },
  {
   "cell_type": "markdown",
   "id": "5e149486",
   "metadata": {},
   "source": [
    "# Come back to this to change the space in total_charges into a underscore"
   ]
  },
  {
   "cell_type": "code",
   "execution_count": 28,
   "id": "1ca2aeaf",
   "metadata": {},
   "outputs": [
    {
     "data": {
      "text/plain": [
       "0        593.30\n",
       "1        542.40\n",
       "2        280.85\n",
       "3       1237.85\n",
       "4        267.40\n",
       "         ...   \n",
       "7038     742.90\n",
       "7039    1873.70\n",
       "7040      92.75\n",
       "7041    4627.65\n",
       "7042    3707.60\n",
       "Name: total_charges, Length: 7043, dtype: float64"
      ]
     },
     "execution_count": 28,
     "metadata": {},
     "output_type": "execute_result"
    }
   ],
   "source": [
    "#note that the total_charges is read as an object\n",
    "#this mean that some values could be Null, non-numeric, or Dollar sign, or a space\n",
    "# we need to get rid of these\n",
    "\n",
    "df['total_charges'].str.replace(',', '')\n",
    "pd.to_numeric(df['total_charges'], errors='coerce')"
   ]
  },
  {
   "cell_type": "code",
   "execution_count": 29,
   "id": "ec8e2a22",
   "metadata": {},
   "outputs": [
    {
     "data": {
      "text/plain": [
       "['gender',\n",
       " 'partner',\n",
       " 'dependents',\n",
       " 'phone_service',\n",
       " 'multiple_lines',\n",
       " 'online_security',\n",
       " 'online_backup',\n",
       " 'device_protection',\n",
       " 'tech_support',\n",
       " 'streaming_tv',\n",
       " 'streaming_movies',\n",
       " 'paperless_billing',\n",
       " 'total_charges',\n",
       " 'churn',\n",
       " 'contract_type',\n",
       " 'internet_service_type',\n",
       " 'payment_type']"
      ]
     },
     "execution_count": 29,
     "metadata": {},
     "output_type": "execute_result"
    }
   ],
   "source": [
    "# i need to identify columns with object incase i have to change it into integer for pandas during machine learning phase\n",
    "df.select_dtypes(include='object').columns.to_list()"
   ]
  },
  {
   "cell_type": "code",
   "execution_count": 14,
   "id": "50609bb5",
   "metadata": {},
   "outputs": [
    {
     "name": "stdout",
     "output_type": "stream",
     "text": [
      "['senior_citizen', 'tenure', 'monthly_charges']\n"
     ]
    }
   ],
   "source": [
    "#i need to compute for the range of each numeric variables to understand Data Distribution and visualization\n",
    "#i have identied three columns with numeric values\n",
    "numeric_columns = []\n",
    "\n",
    "for col in df.columns:\n",
    "    if pd.api.types.is_numeric_dtype(df[col]):\n",
    "        numeric_columns.append(col)\n",
    "\n",
    "print(numeric_columns)"
   ]
  },
  {
   "cell_type": "code",
   "execution_count": 15,
   "id": "6140241a",
   "metadata": {
    "scrolled": true
   },
   "outputs": [
    {
     "data": {
      "text/html": [
       "<div>\n",
       "<style scoped>\n",
       "    .dataframe tbody tr th:only-of-type {\n",
       "        vertical-align: middle;\n",
       "    }\n",
       "\n",
       "    .dataframe tbody tr th {\n",
       "        vertical-align: top;\n",
       "    }\n",
       "\n",
       "    .dataframe thead th {\n",
       "        text-align: right;\n",
       "    }\n",
       "</style>\n",
       "<table border=\"1\" class=\"dataframe\">\n",
       "  <thead>\n",
       "    <tr style=\"text-align: right;\">\n",
       "      <th></th>\n",
       "      <th>count</th>\n",
       "      <th>mean</th>\n",
       "      <th>std</th>\n",
       "      <th>min</th>\n",
       "      <th>25%</th>\n",
       "      <th>50%</th>\n",
       "      <th>75%</th>\n",
       "      <th>max</th>\n",
       "    </tr>\n",
       "  </thead>\n",
       "  <tbody>\n",
       "    <tr>\n",
       "      <th>senior_citizen</th>\n",
       "      <td>7043.0</td>\n",
       "      <td>0.162147</td>\n",
       "      <td>0.368612</td>\n",
       "      <td>0.00</td>\n",
       "      <td>0.0</td>\n",
       "      <td>0.00</td>\n",
       "      <td>0.00</td>\n",
       "      <td>1.00</td>\n",
       "    </tr>\n",
       "    <tr>\n",
       "      <th>tenure</th>\n",
       "      <td>7043.0</td>\n",
       "      <td>32.371149</td>\n",
       "      <td>24.559481</td>\n",
       "      <td>0.00</td>\n",
       "      <td>9.0</td>\n",
       "      <td>29.00</td>\n",
       "      <td>55.00</td>\n",
       "      <td>72.00</td>\n",
       "    </tr>\n",
       "    <tr>\n",
       "      <th>monthly_charges</th>\n",
       "      <td>7043.0</td>\n",
       "      <td>64.761692</td>\n",
       "      <td>30.090047</td>\n",
       "      <td>18.25</td>\n",
       "      <td>35.5</td>\n",
       "      <td>70.35</td>\n",
       "      <td>89.85</td>\n",
       "      <td>118.75</td>\n",
       "    </tr>\n",
       "  </tbody>\n",
       "</table>\n",
       "</div>"
      ],
      "text/plain": [
       "                  count       mean        std    min   25%    50%    75%  \\\n",
       "senior_citizen   7043.0   0.162147   0.368612   0.00   0.0   0.00   0.00   \n",
       "tenure           7043.0  32.371149  24.559481   0.00   9.0  29.00  55.00   \n",
       "monthly_charges  7043.0  64.761692  30.090047  18.25  35.5  70.35  89.85   \n",
       "\n",
       "                    max  \n",
       "senior_citizen     1.00  \n",
       "tenure            72.00  \n",
       "monthly_charges  118.75  "
      ]
     },
     "execution_count": 15,
     "metadata": {},
     "output_type": "execute_result"
    }
   ],
   "source": [
    "#computing the range for each columns\n",
    "df[['senior_citizen', 'tenure', 'monthly_charges']].describe().T\n",
    "#below are the statistic description for each of the variables"
   ]
  },
  {
   "cell_type": "code",
   "execution_count": null,
   "id": "5f52e112",
   "metadata": {},
   "outputs": [],
   "source": []
  },
  {
   "cell_type": "markdown",
   "id": "ca680dcb",
   "metadata": {},
   "source": []
  },
  {
   "cell_type": "code",
   "execution_count": 16,
   "id": "8f7869ec",
   "metadata": {},
   "outputs": [
    {
     "name": "stdout",
     "output_type": "stream",
     "text": [
      "<class 'pandas.core.frame.DataFrame'>\n",
      "RangeIndex: 7043 entries, 0 to 7042\n",
      "Data columns (total 20 columns):\n",
      " #   Column                 Non-Null Count  Dtype  \n",
      "---  ------                 --------------  -----  \n",
      " 0   gender                 7043 non-null   object \n",
      " 1   senior_citizen         7043 non-null   int64  \n",
      " 2   partner                7043 non-null   object \n",
      " 3   dependents             7043 non-null   object \n",
      " 4   tenure                 7043 non-null   int64  \n",
      " 5   phone_service          7043 non-null   object \n",
      " 6   multiple_lines         7043 non-null   object \n",
      " 7   online_security        7043 non-null   object \n",
      " 8   online_backup          7043 non-null   object \n",
      " 9   device_protection      7043 non-null   object \n",
      " 10  tech_support           7043 non-null   object \n",
      " 11  streaming_tv           7043 non-null   object \n",
      " 12  streaming_movies       7043 non-null   object \n",
      " 13  paperless_billing      7043 non-null   object \n",
      " 14  monthly_charges        7043 non-null   float64\n",
      " 15  total_charges          7043 non-null   object \n",
      " 16  churn                  7043 non-null   object \n",
      " 17  contract_type          7043 non-null   object \n",
      " 18  internet_service_type  7043 non-null   object \n",
      " 19  payment_type           7043 non-null   object \n",
      "dtypes: float64(1), int64(2), object(17)\n",
      "memory usage: 1.1+ MB\n"
     ]
    }
   ],
   "source": [
    "df.info()"
   ]
  },
  {
   "cell_type": "code",
   "execution_count": 30,
   "id": "49411b35",
   "metadata": {},
   "outputs": [
    {
     "data": {
      "text/html": [
       "<div>\n",
       "<style scoped>\n",
       "    .dataframe tbody tr th:only-of-type {\n",
       "        vertical-align: middle;\n",
       "    }\n",
       "\n",
       "    .dataframe tbody tr th {\n",
       "        vertical-align: top;\n",
       "    }\n",
       "\n",
       "    .dataframe thead th {\n",
       "        text-align: right;\n",
       "    }\n",
       "</style>\n",
       "<table border=\"1\" class=\"dataframe\">\n",
       "  <thead>\n",
       "    <tr style=\"text-align: right;\">\n",
       "      <th></th>\n",
       "      <th>senior_citizen</th>\n",
       "      <th>tenure</th>\n",
       "      <th>monthly_charges</th>\n",
       "    </tr>\n",
       "  </thead>\n",
       "  <tbody>\n",
       "    <tr>\n",
       "      <th>count</th>\n",
       "      <td>7043.000000</td>\n",
       "      <td>7043.000000</td>\n",
       "      <td>7043.000000</td>\n",
       "    </tr>\n",
       "    <tr>\n",
       "      <th>mean</th>\n",
       "      <td>0.162147</td>\n",
       "      <td>32.371149</td>\n",
       "      <td>64.761692</td>\n",
       "    </tr>\n",
       "    <tr>\n",
       "      <th>std</th>\n",
       "      <td>0.368612</td>\n",
       "      <td>24.559481</td>\n",
       "      <td>30.090047</td>\n",
       "    </tr>\n",
       "    <tr>\n",
       "      <th>min</th>\n",
       "      <td>0.000000</td>\n",
       "      <td>0.000000</td>\n",
       "      <td>18.250000</td>\n",
       "    </tr>\n",
       "    <tr>\n",
       "      <th>25%</th>\n",
       "      <td>0.000000</td>\n",
       "      <td>9.000000</td>\n",
       "      <td>35.500000</td>\n",
       "    </tr>\n",
       "    <tr>\n",
       "      <th>50%</th>\n",
       "      <td>0.000000</td>\n",
       "      <td>29.000000</td>\n",
       "      <td>70.350000</td>\n",
       "    </tr>\n",
       "    <tr>\n",
       "      <th>75%</th>\n",
       "      <td>0.000000</td>\n",
       "      <td>55.000000</td>\n",
       "      <td>89.850000</td>\n",
       "    </tr>\n",
       "    <tr>\n",
       "      <th>max</th>\n",
       "      <td>1.000000</td>\n",
       "      <td>72.000000</td>\n",
       "      <td>118.750000</td>\n",
       "    </tr>\n",
       "  </tbody>\n",
       "</table>\n",
       "</div>"
      ],
      "text/plain": [
       "       senior_citizen       tenure  monthly_charges\n",
       "count     7043.000000  7043.000000      7043.000000\n",
       "mean         0.162147    32.371149        64.761692\n",
       "std          0.368612    24.559481        30.090047\n",
       "min          0.000000     0.000000        18.250000\n",
       "25%          0.000000     9.000000        35.500000\n",
       "50%          0.000000    29.000000        70.350000\n",
       "75%          0.000000    55.000000        89.850000\n",
       "max          1.000000    72.000000       118.750000"
      ]
     },
     "execution_count": 30,
     "metadata": {},
     "output_type": "execute_result"
    }
   ],
   "source": [
    "df.describe()   #this is use to view summary stat for numeric columns"
   ]
  },
  {
   "cell_type": "code",
   "execution_count": 31,
   "id": "c629d73e",
   "metadata": {},
   "outputs": [
    {
     "data": {
      "image/png": "[encoded data removed]",
      "text/plain": [
       "<Figure size 640x480 with 1 Axes>"
      ]
     },
     "metadata": {},
     "output_type": "display_data"
    },
    {
     "data": {
      "image/png": "[encoded data removed]",
      "text/plain": [
       "<Figure size 640x480 with 1 Axes>"
      ]
     },
     "metadata": {},
     "output_type": "display_data"
    },
    {
     "data": {
      "image/png": "[encoded data removed]",
      "text/plain": [
       "<Figure size 640x480 with 1 Axes>"
      ]
     },
     "metadata": {},
     "output_type": "display_data"
    }
   ],
   "source": [
    "#this function is to plot all columns with numeric values\n",
    "#since float64 and int64 are not object, i was able to use that to create a plot\n",
    "num_cols = df.columns[[df[col].dtype != 'object' for col in df.columns]]\n",
    "\n",
    "for col in num_cols:\n",
    "    plt.hist(df[col])\n",
    "    plt.title(col)\n",
    "    plt.show()"
   ]
  },
  {
   "cell_type": "code",
   "execution_count": 38,
   "id": "e6fa3b12",
   "metadata": {},
   "outputs": [
    {
     "name": "stdout",
     "output_type": "stream",
     "text": [
      "0    5901\n",
      "1    1142\n",
      "Name: senior_citizen, dtype: int64\n",
      "0    0.837853\n",
      "1    0.162147\n",
      "Name: senior_citizen, dtype: float64\n",
      "----------------------\n",
      "1     613\n",
      "72    362\n",
      "2     238\n",
      "3     200\n",
      "4     176\n",
      "     ... \n",
      "28     57\n",
      "39     56\n",
      "44     51\n",
      "36     50\n",
      "0      11\n",
      "Name: tenure, Length: 73, dtype: int64\n",
      "1     0.087037\n",
      "72    0.051399\n",
      "2     0.033792\n",
      "3     0.028397\n",
      "4     0.024989\n",
      "        ...   \n",
      "28    0.008093\n",
      "39    0.007951\n",
      "44    0.007241\n",
      "36    0.007099\n",
      "0     0.001562\n",
      "Name: tenure, Length: 73, dtype: float64\n",
      "----------------------\n",
      "20.05     61\n",
      "19.85     45\n",
      "19.95     44\n",
      "19.90     44\n",
      "20.00     43\n",
      "          ..\n",
      "116.55     1\n",
      "106.85     1\n",
      "68.55      1\n",
      "108.80     1\n",
      "67.85      1\n",
      "Name: monthly_charges, Length: 1585, dtype: int64\n",
      "20.05     0.008661\n",
      "19.85     0.006389\n",
      "19.95     0.006247\n",
      "19.90     0.006247\n",
      "20.00     0.006105\n",
      "            ...   \n",
      "116.55    0.000142\n",
      "106.85    0.000142\n",
      "68.55     0.000142\n",
      "108.80    0.000142\n",
      "67.85     0.000142\n",
      "Name: monthly_charges, Length: 1585, dtype: float64\n",
      "----------------------\n"
     ]
    }
   ],
   "source": [
    "# Use .describe with non object columns with the normalized value count \n",
    "# i did this to see the distribution of unique values\n",
    "# and to understand the frequency and proportion of different values in the numerical columns\n",
    "\n",
    "obj_cols = df.columns[[df[col].dtype != 'O' for col in df.columns]]  #'O' is for object\n",
    "for col in obj_cols:\n",
    "    print(df[col].value_counts())\n",
    "    print(df[col].value_counts(normalize=True, dropna=False))\n",
    "    print('----------------------')\n"
   ]
  },
  {
   "cell_type": "markdown",
   "id": "f03ca49b",
   "metadata": {},
   "source": [
    "The normalized value counts show that proportion of value 0 is about 83.79%, and the value 1 is about 0.1621%\n",
    "\n",
    "The tenure data shows 73 different value of months from 0 to 72.\n",
    "the normalized value counts show proportion of each months in relation to its non-null values\n",
    "\n",
    "there are 1585 unique values in monthly_charges column. this data show the proportion of the 1585 values relative to total number of non-null values\n",
    "\n"
   ]
  },
  {
   "cell_type": "code",
   "execution_count": 33,
   "id": "0c7e0eea",
   "metadata": {},
   "outputs": [
    {
     "name": "stdout",
     "output_type": "stream",
     "text": [
      "Male      3555\n",
      "Female    3488\n",
      "Name: gender, dtype: int64\n",
      "Male      0.504756\n",
      "Female    0.495244\n",
      "Name: gender, dtype: float64\n",
      "----------------------\n",
      "No     3641\n",
      "Yes    3402\n",
      "Name: partner, dtype: int64\n",
      "No     0.516967\n",
      "Yes    0.483033\n",
      "Name: partner, dtype: float64\n",
      "----------------------\n",
      "No     4933\n",
      "Yes    2110\n",
      "Name: dependents, dtype: int64\n",
      "No     0.700412\n",
      "Yes    0.299588\n",
      "Name: dependents, dtype: float64\n",
      "----------------------\n",
      "Yes    6361\n",
      "No      682\n",
      "Name: phone_service, dtype: int64\n",
      "Yes    0.903166\n",
      "No     0.096834\n",
      "Name: phone_service, dtype: float64\n",
      "----------------------\n",
      "No                  3390\n",
      "Yes                 2971\n",
      "No phone service     682\n",
      "Name: multiple_lines, dtype: int64\n",
      "No                  0.481329\n",
      "Yes                 0.421837\n",
      "No phone service    0.096834\n",
      "Name: multiple_lines, dtype: float64\n",
      "----------------------\n",
      "No                     3498\n",
      "Yes                    2019\n",
      "No internet service    1526\n",
      "Name: online_security, dtype: int64\n",
      "No                     0.496663\n",
      "Yes                    0.286668\n",
      "No internet service    0.216669\n",
      "Name: online_security, dtype: float64\n",
      "----------------------\n",
      "No                     3088\n",
      "Yes                    2429\n",
      "No internet service    1526\n",
      "Name: online_backup, dtype: int64\n",
      "No                     0.438450\n",
      "Yes                    0.344881\n",
      "No internet service    0.216669\n",
      "Name: online_backup, dtype: float64\n",
      "----------------------\n",
      "No                     3095\n",
      "Yes                    2422\n",
      "No internet service    1526\n",
      "Name: device_protection, dtype: int64\n",
      "No                     0.439443\n",
      "Yes                    0.343888\n",
      "No internet service    0.216669\n",
      "Name: device_protection, dtype: float64\n",
      "----------------------\n",
      "No                     3473\n",
      "Yes                    2044\n",
      "No internet service    1526\n",
      "Name: tech_support, dtype: int64\n",
      "No                     0.493114\n",
      "Yes                    0.290217\n",
      "No internet service    0.216669\n",
      "Name: tech_support, dtype: float64\n",
      "----------------------\n",
      "No                     2810\n",
      "Yes                    2707\n",
      "No internet service    1526\n",
      "Name: streaming_tv, dtype: int64\n",
      "No                     0.398978\n",
      "Yes                    0.384353\n",
      "No internet service    0.216669\n",
      "Name: streaming_tv, dtype: float64\n",
      "----------------------\n",
      "No                     2785\n",
      "Yes                    2732\n",
      "No internet service    1526\n",
      "Name: streaming_movies, dtype: int64\n",
      "No                     0.395428\n",
      "Yes                    0.387903\n",
      "No internet service    0.216669\n",
      "Name: streaming_movies, dtype: float64\n",
      "----------------------\n",
      "Yes    4171\n",
      "No     2872\n",
      "Name: paperless_billing, dtype: int64\n",
      "Yes    0.592219\n",
      "No     0.407781\n",
      "Name: paperless_billing, dtype: float64\n",
      "----------------------\n",
      "           11\n",
      "20.2       11\n",
      "19.75       9\n",
      "19.9        8\n",
      "20.05       8\n",
      "           ..\n",
      "2387.75     1\n",
      "6302.8      1\n",
      "2058.5      1\n",
      "829.55      1\n",
      "3707.6      1\n",
      "Name: total_charges, Length: 6531, dtype: int64\n",
      "           0.001562\n",
      "20.2       0.001562\n",
      "19.75      0.001278\n",
      "19.9       0.001136\n",
      "20.05      0.001136\n",
      "             ...   \n",
      "2387.75    0.000142\n",
      "6302.8     0.000142\n",
      "2058.5     0.000142\n",
      "829.55     0.000142\n",
      "3707.6     0.000142\n",
      "Name: total_charges, Length: 6531, dtype: float64\n",
      "----------------------\n",
      "No     5174\n",
      "Yes    1869\n",
      "Name: churn, dtype: int64\n",
      "No     0.73463\n",
      "Yes    0.26537\n",
      "Name: churn, dtype: float64\n",
      "----------------------\n",
      "Month-to-month    3875\n",
      "Two year          1695\n",
      "One year          1473\n",
      "Name: contract_type, dtype: int64\n",
      "Month-to-month    0.550192\n",
      "Two year          0.240664\n",
      "One year          0.209144\n",
      "Name: contract_type, dtype: float64\n",
      "----------------------\n",
      "Fiber optic    3096\n",
      "DSL            2421\n",
      "None           1526\n",
      "Name: internet_service_type, dtype: int64\n",
      "Fiber optic    0.439585\n",
      "DSL            0.343746\n",
      "None           0.216669\n",
      "Name: internet_service_type, dtype: float64\n",
      "----------------------\n",
      "Electronic check             2365\n",
      "Mailed check                 1612\n",
      "Bank transfer (automatic)    1544\n",
      "Credit card (automatic)      1522\n",
      "Name: payment_type, dtype: int64\n",
      "Electronic check             0.335794\n",
      "Mailed check                 0.228880\n",
      "Bank transfer (automatic)    0.219225\n",
      "Credit card (automatic)      0.216101\n",
      "Name: payment_type, dtype: float64\n",
      "----------------------\n"
     ]
    }
   ],
   "source": [
    "# Use .describe with object columns with the normalized value count \n",
    "# i did this to see the distribution of unique values\n",
    "# and to understand the frequency and proportion of different values in the categorical columns\n",
    "\n",
    "obj_cols = df.columns[[df[col].dtype == 'O' for col in df.columns]]  #'O' is for object\n",
    "for col in obj_cols:\n",
    "    print(df[col].value_counts())\n",
    "    print(df[col].value_counts(normalize=True, dropna=False))\n",
    "    print('----------------------')"
   ]
  },
  {
   "cell_type": "markdown",
   "id": "7e8b352e",
   "metadata": {},
   "source": [
    "In this dataset I can see that gender has two values of male and female. pretty even out\n",
    "\n",
    "more customers does not have dependents at 70%\n",
    "\n",
    "about 90% have phone service with us\n",
    "\n",
    "about 42 % have multiline and 48% with no multiline\n",
    "\n",
    "about 49% does not have online security\n",
    "\n",
    "about 43% does not have online backup\n",
    "\n",
    "about 43% does not have device protection\n",
    "\n",
    "about 39% does not have tv and 38% does\n",
    "\n",
    "about 39% does not have streaming movies, and 38% does\n",
    "\n",
    "about 59% have paperless billing and 40% does not\n",
    "\n",
    "churn is abotu 26% and 73% not churn\n",
    "\n",
    "majority have fiber optic\n",
    "\n",
    "and majority have electronic check\n",
    "\n"
   ]
  },
  {
   "cell_type": "markdown",
   "id": "26f22500",
   "metadata": {},
   "source": [
    "## next step is to split the data\n",
    "\n",
    "\n"
   ]
  },
  {
   "cell_type": "code",
   "execution_count": 47,
   "id": "c5a1b51b",
   "metadata": {},
   "outputs": [],
   "source": [
    "#i want 20% test, 80% train-validate\n",
    "#of the 80% train_validate, i have 30% validate, and 70% train\n",
    "seed = 42 #this is a random state (number generator) so anyone can take my code and produce the same result \n",
    "train, test = train_test_split(df, test_size=.2, random_state=seed, stratify=df.churn) \n",
    "#stratifying the churn will maintain the same class distribution in both training and test dataset\n",
    "#after i run this code, i will have two separate datasets: train and test, subset of df. \n",
    "\n",
    "\n",
    "train, validate = train_test_split(train, test_size=.3, random_state=seed, stratify=train.churn)\n",
    "#this code will further split the train subset into train and validate with 30% validate and 70% train"
   ]
  },
  {
   "cell_type": "code",
   "execution_count": 48,
   "id": "c6097039",
   "metadata": {},
   "outputs": [
    {
     "name": "stdout",
     "output_type": "stream",
     "text": [
      "train -> (3943, 20)\n",
      "validate -> (1691, 20)\n",
      "test -> (1409, 20)\n"
     ]
    }
   ],
   "source": [
    "# after the split i want to validate my train so that my model perform well to unseen data\n",
    "# validate will prevent overfitting, be able to experience different hyperparameter, \n",
    "print(f'train -> {train.shape}')\n",
    "print(f'validate -> {validate.shape}')\n",
    "print(f'test -> {test.shape}')"
   ]
  },
  {
   "cell_type": "markdown",
   "id": "34fcefce",
   "metadata": {},
   "source": [
    "the train set is used for training, the validation set help with tuning, and the test set assesses the model's final performance. \n",
    "\n",
    "the train set have a bigger shape compare the validate and test, and all subsets contain the same number of columns"
   ]
  },
  {
   "cell_type": "code",
   "execution_count": null,
   "id": "4ff0bf8c",
   "metadata": {},
   "outputs": [],
   "source": []
  },
  {
   "cell_type": "markdown",
   "id": "3d8b5fd5",
   "metadata": {},
   "source": [
    "# Impute missing values\n"
   ]
  },
  {
   "cell_type": "markdown",
   "id": "e82716a8",
   "metadata": {},
   "source": [
    "I want to impute missing values to fill in the gaps with estimated or predicted values. \n",
    "I can impute using statistical measure, or a constant value.\n",
    "I have to becareful not to impute values in a way that create bias in my data"
   ]
  },
  {
   "cell_type": "code",
   "execution_count": 50,
   "id": "46827b45",
   "metadata": {},
   "outputs": [
    {
     "name": "stdout",
     "output_type": "stream",
     "text": [
      "<class 'pandas.core.frame.DataFrame'>\n",
      "Int64Index: 3943 entries, 4604 to 6377\n",
      "Data columns (total 20 columns):\n",
      " #   Column                 Non-Null Count  Dtype  \n",
      "---  ------                 --------------  -----  \n",
      " 0   gender                 3943 non-null   object \n",
      " 1   senior_citizen         3943 non-null   int64  \n",
      " 2   partner                3943 non-null   object \n",
      " 3   dependents             3943 non-null   object \n",
      " 4   tenure                 3943 non-null   int64  \n",
      " 5   phone_service          3943 non-null   object \n",
      " 6   multiple_lines         3943 non-null   object \n",
      " 7   online_security        3943 non-null   object \n",
      " 8   online_backup          3943 non-null   object \n",
      " 9   device_protection      3943 non-null   object \n",
      " 10  tech_support           3943 non-null   object \n",
      " 11  streaming_tv           3943 non-null   object \n",
      " 12  streaming_movies       3943 non-null   object \n",
      " 13  paperless_billing      3943 non-null   object \n",
      " 14  monthly_charges        3943 non-null   float64\n",
      " 15  total_charges          3943 non-null   object \n",
      " 16  churn                  3943 non-null   object \n",
      " 17  contract_type          3943 non-null   object \n",
      " 18  internet_service_type  3943 non-null   object \n",
      " 19  payment_type           3943 non-null   object \n",
      "dtypes: float64(1), int64(2), object(17)\n",
      "memory usage: 646.9+ KB\n"
     ]
    }
   ],
   "source": [
    "train.info()  #this is the dataset after we have splitted our data "
   ]
  },
  {
   "cell_type": "code",
   "execution_count": 61,
   "id": "c1872da7",
   "metadata": {},
   "outputs": [],
   "source": [
    "#creating a SimpleImputer object to store impute variables, and the impute will replace missing values with a constant unknown\n",
    "imputer = SimpleImputer(fill_value= 'unknown', strategy= 'constant')\n",
    "#if i were to use the 'most_frequent' strategy, it would fill in any null values with the most dominant class value and that will introduce bias into the data\n",
    "#by filling in unknown or missing value, i can prevent any assumptions about the the data"
   ]
  },
  {
   "cell_type": "code",
   "execution_count": 62,
   "id": "0ea72d34",
   "metadata": {},
   "outputs": [
    {
     "data": {
      "text/html": [
       "<style>#sk-container-id-3 {color: black;background-color: white;}#sk-container-id-3 pre{padding: 0;}#sk-container-id-3 div.sk-toggleable {background-color: white;}#sk-container-id-3 label.sk-toggleable__label {cursor: pointer;display: block;width: 100%;margin-bottom: 0;padding: 0.3em;box-sizing: border-box;text-align: center;}#sk-container-id-3 label.sk-toggleable__label-arrow:before {content: \"▸\";float: left;margin-right: 0.25em;color: #696969;}#sk-container-id-3 label.sk-toggleable__label-arrow:hover:before {color: black;}#sk-container-id-3 div.sk-estimator:hover label.sk-toggleable__label-arrow:before {color: black;}#sk-container-id-3 div.sk-toggleable__content {max-height: 0;max-width: 0;overflow: hidden;text-align: left;background-color: #f0f8ff;}#sk-container-id-3 div.sk-toggleable__content pre {margin: 0.2em;color: black;border-radius: 0.25em;background-color: #f0f8ff;}#sk-container-id-3 input.sk-toggleable__control:checked~div.sk-toggleable__content {max-height: 200px;max-width: 100%;overflow: auto;}#sk-container-id-3 input.sk-toggleable__control:checked~label.sk-toggleable__label-arrow:before {content: \"▾\";}#sk-container-id-3 div.sk-estimator input.sk-toggleable__control:checked~label.sk-toggleable__label {background-color: #d4ebff;}#sk-container-id-3 div.sk-label input.sk-toggleable__control:checked~label.sk-toggleable__label {background-color: #d4ebff;}#sk-container-id-3 input.sk-hidden--visually {border: 0;clip: rect(1px 1px 1px 1px);clip: rect(1px, 1px, 1px, 1px);height: 1px;margin: -1px;overflow: hidden;padding: 0;position: absolute;width: 1px;}#sk-container-id-3 div.sk-estimator {font-family: monospace;background-color: #f0f8ff;border: 1px dotted black;border-radius: 0.25em;box-sizing: border-box;margin-bottom: 0.5em;}#sk-container-id-3 div.sk-estimator:hover {background-color: #d4ebff;}#sk-container-id-3 div.sk-parallel-item::after {content: \"\";width: 100%;border-bottom: 1px solid gray;flex-grow: 1;}#sk-container-id-3 div.sk-label:hover label.sk-toggleable__label {background-color: #d4ebff;}#sk-container-id-3 div.sk-serial::before {content: \"\";position: absolute;border-left: 1px solid gray;box-sizing: border-box;top: 0;bottom: 0;left: 50%;z-index: 0;}#sk-container-id-3 div.sk-serial {display: flex;flex-direction: column;align-items: center;background-color: white;padding-right: 0.2em;padding-left: 0.2em;position: relative;}#sk-container-id-3 div.sk-item {position: relative;z-index: 1;}#sk-container-id-3 div.sk-parallel {display: flex;align-items: stretch;justify-content: center;background-color: white;position: relative;}#sk-container-id-3 div.sk-item::before, #sk-container-id-3 div.sk-parallel-item::before {content: \"\";position: absolute;border-left: 1px solid gray;box-sizing: border-box;top: 0;bottom: 0;left: 50%;z-index: -1;}#sk-container-id-3 div.sk-parallel-item {display: flex;flex-direction: column;z-index: 1;position: relative;background-color: white;}#sk-container-id-3 div.sk-parallel-item:first-child::after {align-self: flex-end;width: 50%;}#sk-container-id-3 div.sk-parallel-item:last-child::after {align-self: flex-start;width: 50%;}#sk-container-id-3 div.sk-parallel-item:only-child::after {width: 0;}#sk-container-id-3 div.sk-dashed-wrapped {border: 1px dashed gray;margin: 0 0.4em 0.5em 0.4em;box-sizing: border-box;padding-bottom: 0.4em;background-color: white;}#sk-container-id-3 div.sk-label label {font-family: monospace;font-weight: bold;display: inline-block;line-height: 1.2em;}#sk-container-id-3 div.sk-label-container {text-align: center;}#sk-container-id-3 div.sk-container {/* jupyter's `normalize.less` sets `[hidden] { display: none; }` but bootstrap.min.css set `[hidden] { display: none !important; }` so we also need the `!important` here to be able to override the default hidden behavior on the sphinx rendered scikit-learn.org. See: https://github.com/scikit-learn/scikit-learn/issues/21755 */display: inline-block !important;position: relative;}#sk-container-id-3 div.sk-text-repr-fallback {display: none;}</style><div id=\"sk-container-id-3\" class=\"sk-top-container\"><div class=\"sk-text-repr-fallback\"><pre>SimpleImputer(fill_value=&#x27;unknown&#x27;, strategy=&#x27;constant&#x27;)</pre><b>In a Jupyter environment, please rerun this cell to show the HTML representation or trust the notebook. <br />On GitHub, the HTML representation is unable to render, please try loading this page with nbviewer.org.</b></div><div class=\"sk-container\" hidden><div class=\"sk-item\"><div class=\"sk-estimator sk-toggleable\"><input class=\"sk-toggleable__control sk-hidden--visually\" id=\"sk-estimator-id-3\" type=\"checkbox\" checked><label for=\"sk-estimator-id-3\" class=\"sk-toggleable__label sk-toggleable__label-arrow\">SimpleImputer</label><div class=\"sk-toggleable__content\"><pre>SimpleImputer(fill_value=&#x27;unknown&#x27;, strategy=&#x27;constant&#x27;)</pre></div></div></div></div></div>"
      ],
      "text/plain": [
       "SimpleImputer(fill_value='unknown', strategy='constant')"
      ]
     },
     "execution_count": 62,
     "metadata": {},
     "output_type": "execute_result"
    }
   ],
   "source": [
    "#fitting the imputer to the columns of train. \n",
    "imputer.fit(train[['churn']])"
   ]
  },
  {
   "cell_type": "code",
   "execution_count": 58,
   "id": "e9084ab9",
   "metadata": {},
   "outputs": [],
   "source": [
    "# I will need to applyi the same impute to all the subsets of the data\n",
    "train[['churn']] = imputer.transform(train[['churn']])\n",
    "\n",
    "validate[['churn']] = imputer.transform(validate[['churn']])\n",
    "\n",
    "test[['churn']] = imputer.transform(test[['churn']])\n"
   ]
  },
  {
   "cell_type": "code",
   "execution_count": 63,
   "id": "4127f774",
   "metadata": {},
   "outputs": [
    {
     "data": {
      "text/plain": [
       "No     2897\n",
       "Yes    1046\n",
       "Name: churn, dtype: int64"
      ]
     },
     "execution_count": 63,
     "metadata": {},
     "output_type": "execute_result"
    }
   ],
   "source": [
    "train.churn.value_counts(dropna=False)  #I should have 3943 total value counts in train subset"
   ]
  },
  {
   "cell_type": "code",
   "execution_count": 64,
   "id": "6d68b1b6",
   "metadata": {},
   "outputs": [],
   "source": [
    "#creating a function of impute to run through all the step above when i pass the train, validate, and test DataFrames as my argument\n",
    "def impute_mode(train, validate, test):\n",
    "    imputer = SimpleImputer(fill_value= 'unknown', strategy='constant')\n",
    "    train[['churn']] = imputer.fit_transform(train[['churn']])\n",
    "    validate[['churn']] = imputer.transform(validate[['churn']])\n",
    "    test[['churn']] = imputer.transform(test[['churn']])\n",
    "    return train, validate, test\n",
    "\n"
   ]
  },
  {
   "cell_type": "markdown",
   "id": "c429e70e",
   "metadata": {},
   "source": [
    "# I should be making function  of clean data and split data already for preparation\n",
    "\n",
    "# This is when I should test the function to "
   ]
  }
 ],
 "metadata": {
  "kernelspec": {
   "display_name": "Python 3 (ipykernel)",
   "language": "python",
   "name": "python3"
  },
  "language_info": {
   "codemirror_mode": {
    "name": "ipython",
    "version": 3
   },
   "file_extension": ".py",
   "mimetype": "text/x-python",
   "name": "python",
   "nbconvert_exporter": "python",
   "pygments_lexer": "ipython3",
   "version": "3.10.9"
  }
 },
 "nbformat": 4,
 "nbformat_minor": 5
}
